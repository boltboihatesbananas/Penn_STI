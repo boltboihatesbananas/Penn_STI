{
 "cells": [
  {
   "cell_type": "markdown",
   "id": "1a58bd27",
   "metadata": {},
   "source": [
    "#  The objective of this data analysis is to determine the number of patients who came to the clinic; determine various trends; and provide recommendations."
   ]
  },
  {
   "cell_type": "code",
   "execution_count": 1,
   "id": "56700a00",
   "metadata": {},
   "outputs": [],
   "source": [
    "import pandas as pd\n",
    "import numpy as np\n",
    "import seaborn as sns\n",
    "import matplotlib.pyplot as plt\n",
    "from datetime import datetime, timedelta\n",
    "from scipy.stats import chi2_contingency\n",
    "import statsmodels.api as sm\n",
    "from sklearn.model_selection import train_test_split\n",
    "from sklearn.linear_model import LogisticRegression\n",
    "from sklearn.metrics import classification_report\n",
    "from urllib.request import urlretrieve"
   ]
  },
  {
   "cell_type": "markdown",
   "id": "7ebae4be",
   "metadata": {},
   "source": [
    "### Download the content from github and see the first 5 rows to get an idea what were working with. print the shape too to see the size of the dataframe"
   ]
  },
  {
   "cell_type": "code",
   "execution_count": 126,
   "id": "5a1234fe",
   "metadata": {},
   "outputs": [
    {
     "name": "stdout",
     "output_type": "stream",
     "text": [
      "  PatientNumber Sex  International Student (reg file)         Ethnicity  \\\n",
      "0      Patient1   M                                 0             Asian   \n",
      "1      Patient1   M                                 0             Asian   \n",
      "2      Patient1   M                                 0             Asian   \n",
      "3      Patient1   M                                 0             Asian   \n",
      "4     Patient10   F                                 0  Caucasian, White   \n",
      "\n",
      "                           School Academic Class NCAA   CollectionDate  \\\n",
      "0                 Wharton Masters              G  NaN   1/10/2023 0:00   \n",
      "1                 Wharton Masters              G  NaN   1/10/2023 0:00   \n",
      "2                 Wharton Masters              G  NaN  2/23/2023 15:20   \n",
      "3                 Wharton Masters              G  NaN  2/23/2023 15:20   \n",
      "4  School Policy Practice Masters              G  NaN  1/19/2023 10:04   \n",
      "\n",
      "                                     TestName        Result  \n",
      "0  CHLAMYDIA TRACHOMATIS RNA, TMA, UROGENITAL  NOT DETECTED  \n",
      "1  NEISSERIA GONORRHOEAE RNA, TMA, UROGENITAL  NOT DETECTED  \n",
      "2  CHLAMYDIA TRACHOMATIS RNA, TMA, UROGENITAL  NOT DETECTED  \n",
      "3  NEISSERIA GONORRHOEAE RNA, TMA, UROGENITAL  NOT DETECTED  \n",
      "4  CHLAMYDIA TRACHOMATIS RNA, TMA, UROGENITAL  NOT DETECTED   \n",
      "\n",
      "\n",
      "(5499, 10)\n"
     ]
    }
   ],
   "source": [
    "url = 'https://raw.githubusercontent.com/boltboihatesbananas/STI_Clinic/main/Data/STITestingDataset.csv'\n",
    "\n",
    "\n",
    "df = pd.read_csv(url)\n",
    "print(df.head(5), \"\\n\\n\")\n",
    "print(df.shape)\n"
   ]
  },
  {
   "cell_type": "markdown",
   "id": "ed141318",
   "metadata": {},
   "source": [
    "##### We have 5499 rows of 9 columns"
   ]
  },
  {
   "cell_type": "code",
   "execution_count": 3,
   "id": "178c5752",
   "metadata": {},
   "outputs": [
    {
     "data": {
      "text/plain": [
       "PatientNumber                               object\n",
       "Sex                                         object\n",
       "International Student (reg file)             int64\n",
       "Ethnicity                                   object\n",
       "School                                      object\n",
       "Academic Class                              object\n",
       "NCAA                                        object\n",
       "CollectionDate                      datetime64[ns]\n",
       "TestName                                    object\n",
       "Result                                      object\n",
       "dtype: object"
      ]
     },
     "execution_count": 3,
     "metadata": {},
     "output_type": "execute_result"
    }
   ],
   "source": [
    "df.dtypes"
   ]
  },
  {
   "cell_type": "markdown",
   "id": "545bcb2c",
   "metadata": {},
   "source": [
    "##### Data types look ok. May want to change \"International Student (reg file)\" to an object.\n",
    "\n",
    "### Examine data types, distribution, shape, duplicates, and nulls"
   ]
  },
  {
   "cell_type": "code",
   "execution_count": 4,
   "id": "b663a3bc",
   "metadata": {},
   "outputs": [
    {
     "data": {
      "text/html": [
       "<div>\n",
       "<style scoped>\n",
       "    .dataframe tbody tr th:only-of-type {\n",
       "        vertical-align: middle;\n",
       "    }\n",
       "\n",
       "    .dataframe tbody tr th {\n",
       "        vertical-align: top;\n",
       "    }\n",
       "\n",
       "    .dataframe thead th {\n",
       "        text-align: right;\n",
       "    }\n",
       "</style>\n",
       "<table border=\"1\" class=\"dataframe\">\n",
       "  <thead>\n",
       "    <tr style=\"text-align: right;\">\n",
       "      <th></th>\n",
       "      <th>International Student (reg file)</th>\n",
       "      <th>CollectionDate</th>\n",
       "    </tr>\n",
       "  </thead>\n",
       "  <tbody>\n",
       "    <tr>\n",
       "      <th>count</th>\n",
       "      <td>5499.000000</td>\n",
       "      <td>5499</td>\n",
       "    </tr>\n",
       "    <tr>\n",
       "      <th>mean</th>\n",
       "      <td>0.250409</td>\n",
       "      <td>2023-03-15 08:08:27.659574528</td>\n",
       "    </tr>\n",
       "    <tr>\n",
       "      <th>min</th>\n",
       "      <td>0.000000</td>\n",
       "      <td>2023-01-03 09:23:00</td>\n",
       "    </tr>\n",
       "    <tr>\n",
       "      <th>25%</th>\n",
       "      <td>0.000000</td>\n",
       "      <td>2023-02-03 12:50:00</td>\n",
       "    </tr>\n",
       "    <tr>\n",
       "      <th>50%</th>\n",
       "      <td>0.000000</td>\n",
       "      <td>2023-03-14 15:30:00</td>\n",
       "    </tr>\n",
       "    <tr>\n",
       "      <th>75%</th>\n",
       "      <td>1.000000</td>\n",
       "      <td>2023-04-21 17:00:00</td>\n",
       "    </tr>\n",
       "    <tr>\n",
       "      <th>max</th>\n",
       "      <td>1.000000</td>\n",
       "      <td>2023-05-31 18:30:00</td>\n",
       "    </tr>\n",
       "    <tr>\n",
       "      <th>std</th>\n",
       "      <td>0.433288</td>\n",
       "      <td>NaN</td>\n",
       "    </tr>\n",
       "  </tbody>\n",
       "</table>\n",
       "</div>"
      ],
      "text/plain": [
       "       International Student (reg file)                 CollectionDate\n",
       "count                       5499.000000                           5499\n",
       "mean                           0.250409  2023-03-15 08:08:27.659574528\n",
       "min                            0.000000            2023-01-03 09:23:00\n",
       "25%                            0.000000            2023-02-03 12:50:00\n",
       "50%                            0.000000            2023-03-14 15:30:00\n",
       "75%                            1.000000            2023-04-21 17:00:00\n",
       "max                            1.000000            2023-05-31 18:30:00\n",
       "std                            0.433288                            NaN"
      ]
     },
     "execution_count": 4,
     "metadata": {},
     "output_type": "execute_result"
    }
   ],
   "source": [
    "df.describe()"
   ]
  },
  {
   "cell_type": "markdown",
   "id": "1ea534da",
   "metadata": {},
   "source": [
    "#### Remove duplicates from the main dataframe but keep it for later analysis\n",
    "\n",
    "#### Look for null values"
   ]
  },
  {
   "cell_type": "code",
   "execution_count": 5,
   "id": "9dbd9578",
   "metadata": {},
   "outputs": [
    {
     "data": {
      "text/plain": [
       "PatientNumber                          0\n",
       "Sex                                    0\n",
       "International Student (reg file)       0\n",
       "Ethnicity                              0\n",
       "School                                 0\n",
       "Academic Class                         0\n",
       "NCAA                                5386\n",
       "CollectionDate                         0\n",
       "TestName                               0\n",
       "Result                                 0\n",
       "dtype: int64"
      ]
     },
     "execution_count": 5,
     "metadata": {},
     "output_type": "execute_result"
    }
   ],
   "source": [
    "df.isna().sum()"
   ]
  },
  {
   "cell_type": "markdown",
   "id": "83f0a4f1",
   "metadata": {},
   "source": [
    "##### NCAA is only populated if the patient participates. We can fill the nulls with N/A for data completeness."
   ]
  },
  {
   "cell_type": "code",
   "execution_count": 6,
   "id": "6595543a",
   "metadata": {},
   "outputs": [
    {
     "data": {
      "text/plain": [
       "PatientNumber                       0\n",
       "Sex                                 0\n",
       "International Student (reg file)    0\n",
       "Ethnicity                           0\n",
       "School                              0\n",
       "Academic Class                      0\n",
       "NCAA                                0\n",
       "CollectionDate                      0\n",
       "TestName                            0\n",
       "Result                              0\n",
       "dtype: int64"
      ]
     },
     "execution_count": 6,
     "metadata": {},
     "output_type": "execute_result"
    }
   ],
   "source": [
    "df['NCAA'].replace(np.nan, 'N/A', inplace=True)\n",
    "\n",
    "df.isna().sum()"
   ]
  },
  {
   "cell_type": "markdown",
   "id": "d7058591",
   "metadata": {},
   "source": [
    "##### All columns have no nulls now\n",
    "\n",
    "#### Find duplicate values, store it in its own dataframe. Then remove them from the main dataframe."
   ]
  },
  {
   "cell_type": "code",
   "execution_count": 7,
   "id": "804de0bc",
   "metadata": {},
   "outputs": [
    {
     "name": "stdout",
     "output_type": "stream",
     "text": [
      "There are 3 duplicates\n",
      "There are 5496 non-duplicates\n"
     ]
    }
   ],
   "source": [
    "duplicates = df[df.duplicated()]\n",
    "df = df.drop_duplicates()\n",
    "\n",
    "print(\"There are\", duplicates.shape[0], \"duplicates\")\n",
    "print(\"There are\", df.shape[0], \"non-duplicates\")"
   ]
  },
  {
   "cell_type": "markdown",
   "id": "fd68523f",
   "metadata": {},
   "source": [
    "#### Obtain all the headers and turn it into a list. We can use this list to see what the distribution in the columns are like. However, for variables you expect to have a lot of variation like 'CollectionDate' you may want to drop it."
   ]
  },
  {
   "cell_type": "code",
   "execution_count": 8,
   "id": "e0d416ca",
   "metadata": {},
   "outputs": [
    {
     "name": "stdout",
     "output_type": "stream",
     "text": [
      "['PatientNumber', 'Sex', 'International Student (reg file)', 'Ethnicity', 'School', 'Academic Class', 'NCAA', 'TestName', 'Result']\n"
     ]
    }
   ],
   "source": [
    "headers = list(df.columns)\n",
    "headers.remove(\"CollectionDate\")\n",
    "print(headers)"
   ]
  },
  {
   "cell_type": "markdown",
   "id": "a25ced69",
   "metadata": {},
   "source": [
    "#### Now you can see the distribution"
   ]
  },
  {
   "cell_type": "code",
   "execution_count": 9,
   "id": "8e24be12",
   "metadata": {
    "scrolled": true
   },
   "outputs": [
    {
     "name": "stdout",
     "output_type": "stream",
     "text": [
      "PatientNumber\n",
      "Patient1153    24\n",
      "Patient88      20\n",
      "Patient273     20\n",
      "Patient439     20\n",
      "Patient956     18\n",
      "               ..\n",
      "Patient237      2\n",
      "Patient999      2\n",
      "Patient625      1\n",
      "Patient976      1\n",
      "Patient1138     1\n",
      "Name: count, Length: 1500, dtype: int64\n",
      "PatientNumber\n",
      "Patient1153    0.4%\n",
      "Patient88      0.4%\n",
      "Patient273     0.4%\n",
      "Patient439     0.4%\n",
      "Patient956     0.3%\n",
      "               ... \n",
      "Patient237     0.0%\n",
      "Patient999     0.0%\n",
      "Patient625     0.0%\n",
      "Patient976     0.0%\n",
      "Patient1138    0.0%\n",
      "Name: proportion, Length: 1500, dtype: object\n",
      "Sex\n",
      "F    2912\n",
      "M    2538\n",
      "U      34\n",
      "X       6\n",
      "N       6\n",
      "Name: count, dtype: int64\n",
      "Sex\n",
      "F    53.0%\n",
      "M    46.2%\n",
      "U     0.6%\n",
      "X     0.1%\n",
      "N     0.1%\n",
      "Name: proportion, dtype: object\n",
      "International Student (reg file)\n",
      "0    4120\n",
      "1    1376\n",
      "Name: count, dtype: int64\n",
      "International Student (reg file)\n",
      "0    75.0%\n",
      "1    25.0%\n",
      "Name: proportion, dtype: object\n",
      "Ethnicity\n",
      "Caucasian, White           1961\n",
      "Asian                      1438\n",
      "Multi ethnic/racial         872\n",
      "Black, African-American     618\n",
      "Hispanic                    224\n",
      "Not known                   215\n",
      "Unknown                     150\n",
      "Other                        10\n",
      "Amerind, Native Alaskan       8\n",
      "Name: count, dtype: int64\n",
      "Ethnicity\n",
      "Caucasian, White           35.7%\n",
      "Asian                      26.2%\n",
      "Multi ethnic/racial        15.9%\n",
      "Black, African-American    11.2%\n",
      "Hispanic                    4.1%\n",
      "Not known                   3.9%\n",
      "Unknown                     2.7%\n",
      "Other                       0.2%\n",
      "Amerind, Native Alaskan     0.1%\n",
      "Name: proportion, dtype: object\n",
      "School\n",
      "College Arts & Sciences               1339\n",
      "Wharton Masters                        637\n",
      "Graduate Arts Sciences                 443\n",
      "BioMedical PhD                         411\n",
      "Wharton Undergrad                      277\n",
      "Law Schl                               264\n",
      "Medical Schl                           231\n",
      "Engineering Undergrad                  192\n",
      "Design Professional                    190\n",
      "Dental Medicine                        174\n",
      "School of Education_PhD                168\n",
      "Nursing Undergraduate                  165\n",
      "Engineering Masters                    152\n",
      "Education Masters/Doctorate            138\n",
      "Veterinary Schl                        102\n",
      "LPS Masters/Cert                        93\n",
      "School Policy Practice Masters          88\n",
      "Nursing Masters                         71\n",
      "Law Post Grad                           50\n",
      "Education PhD                           49\n",
      "BioMedical Master                       46\n",
      "Dental School Post-Grad                 42\n",
      "Nursing Doctoral                        40\n",
      "Annenberg Sch of Communication PhD      40\n",
      "Design Graduate                         24\n",
      "Wharton Ph.D                            20\n",
      "Nursing PhD                             16\n",
      "LPS                                     12\n",
      "Veterinary Med VMD/PhD                  12\n",
      "Social Policy Practice PhD              10\n",
      "Name: count, dtype: int64\n",
      "School\n",
      "College Arts & Sciences               24.4%\n",
      "Wharton Masters                       11.6%\n",
      "Graduate Arts Sciences                 8.1%\n",
      "BioMedical PhD                         7.5%\n",
      "Wharton Undergrad                      5.0%\n",
      "Law Schl                               4.8%\n",
      "Medical Schl                           4.2%\n",
      "Engineering Undergrad                  3.5%\n",
      "Design Professional                    3.5%\n",
      "Dental Medicine                        3.2%\n",
      "School of Education_PhD                3.1%\n",
      "Nursing Undergraduate                  3.0%\n",
      "Engineering Masters                    2.8%\n",
      "Education Masters/Doctorate            2.5%\n",
      "Veterinary Schl                        1.9%\n",
      "LPS Masters/Cert                       1.7%\n",
      "School Policy Practice Masters         1.6%\n",
      "Nursing Masters                        1.3%\n",
      "Law Post Grad                          0.9%\n",
      "Education PhD                          0.9%\n",
      "BioMedical Master                      0.8%\n",
      "Dental School Post-Grad                0.8%\n",
      "Nursing Doctoral                       0.7%\n",
      "Annenberg Sch of Communication PhD     0.7%\n",
      "Design Graduate                        0.4%\n",
      "Wharton Ph.D                           0.4%\n",
      "Nursing PhD                            0.3%\n",
      "LPS                                    0.2%\n",
      "Veterinary Med VMD/PhD                 0.2%\n",
      "Social Policy Practice PhD             0.2%\n",
      "Name: proportion, dtype: object\n",
      "Academic Class\n",
      "G    3523\n",
      "U    1973\n",
      "Name: count, dtype: int64\n",
      "Academic Class\n",
      "G    64.1%\n",
      "U    35.9%\n",
      "Name: proportion, dtype: object\n",
      "NCAA\n",
      "N/A         5383\n",
      "NCAA_MFB      28\n",
      "NCAA_MSW      19\n",
      "NCAA_WSW       6\n",
      "NCAA_WCR       6\n",
      "NCAA_WSO       6\n",
      "NCAA_EVL       6\n",
      "NCAA_WVB       4\n",
      "NCAA_MBA       4\n",
      "NCAA_MLF       4\n",
      "NCAA_WCC       4\n",
      "NCAA_MCR       4\n",
      "NCAA_MLC       4\n",
      "NCAA_WSQ       4\n",
      "NCAA_WLA       4\n",
      "NCAA_MFE       4\n",
      "NCAA_WTE       2\n",
      "NCAA_WBB       2\n",
      "NCAA_MLA       2\n",
      "Name: count, dtype: int64\n",
      "NCAA\n",
      "N/A         97.9%\n",
      "NCAA_MFB     0.5%\n",
      "NCAA_MSW     0.3%\n",
      "NCAA_WSW     0.1%\n",
      "NCAA_WCR     0.1%\n",
      "NCAA_WSO     0.1%\n",
      "NCAA_EVL     0.1%\n",
      "NCAA_WVB     0.1%\n",
      "NCAA_MBA     0.1%\n",
      "NCAA_MLF     0.1%\n",
      "NCAA_WCC     0.1%\n",
      "NCAA_MCR     0.1%\n",
      "NCAA_MLC     0.1%\n",
      "NCAA_WSQ     0.1%\n",
      "NCAA_WLA     0.1%\n",
      "NCAA_MFE     0.1%\n",
      "NCAA_WTE     0.0%\n",
      "NCAA_WBB     0.0%\n",
      "NCAA_MLA     0.0%\n",
      "Name: proportion, dtype: object\n",
      "TestName\n",
      "CHLAMYDIA TRACHOMATIS RNA, TMA, UROGENITAL    1726\n",
      "NEISSERIA GONORRHOEAE RNA, TMA, UROGENITAL    1719\n",
      "NEISSERIA GONORRHOEAE RNA, TMA, THROAT         763\n",
      "CHLAMYDIA TRACHOMATIS RNA, TMA, THROAT         757\n",
      "CHLAMYDIA TRACHOMATIS RNA, TMA, RECTAL         267\n",
      "NEISSERIA GONORRHOEAE RNA, TMA, RECTAL         264\n",
      "Name: count, dtype: int64\n",
      "TestName\n",
      "CHLAMYDIA TRACHOMATIS RNA, TMA, UROGENITAL    31.4%\n",
      "NEISSERIA GONORRHOEAE RNA, TMA, UROGENITAL    31.3%\n",
      "NEISSERIA GONORRHOEAE RNA, TMA, THROAT        13.9%\n",
      "CHLAMYDIA TRACHOMATIS RNA, TMA, THROAT        13.8%\n",
      "CHLAMYDIA TRACHOMATIS RNA, TMA, RECTAL         4.9%\n",
      "NEISSERIA GONORRHOEAE RNA, TMA, RECTAL         4.8%\n",
      "Name: proportion, dtype: object\n",
      "Result\n",
      "NOT DETECTED    5425\n",
      "DETECTED          67\n",
      "EQUIVOCAL          3\n",
      "Not Detected       1\n",
      "Name: count, dtype: int64\n",
      "Result\n",
      "NOT DETECTED    98.7%\n",
      "DETECTED         1.2%\n",
      "EQUIVOCAL        0.1%\n",
      "Not Detected     0.0%\n",
      "Name: proportion, dtype: object\n"
     ]
    }
   ],
   "source": [
    "for header in headers:\n",
    "    print(df[header].value_counts())\n",
    "    print(df[header].value_counts(normalize=True).mul(100).round(1).astype(str) + '%')\n",
    "    "
   ]
  },
  {
   "cell_type": "markdown",
   "id": "277fdbda",
   "metadata": {},
   "source": [
    "##### Now we know what the distribution of the columns are we can start to look at what to focus on. We can also see areas to clean a little more. Within the columns we can consider whether the sum of each instance is significant enough for data analysis.\n",
    "\n",
    "##### - Sex \n",
    "##### - International Students\n",
    "##### - Ethnicity\n",
    "##### - School but reclassify. All Wharton students to be 'Wharton' for example. Can analyze further with 'Academic Class'\n",
    "##### - Academic class\n",
    "##### - Test Name\n",
    "##### - Result\n",
    "##### - DateCollected could be parsed to date and time.\n",
    "\n",
    "##### Now to reclassify School and DateCollected before Analysis"
   ]
  },
  {
   "cell_type": "code",
   "execution_count": 10,
   "id": "39df3b7e",
   "metadata": {},
   "outputs": [
    {
     "name": "stdout",
     "output_type": "stream",
     "text": [
      "School_v2\n",
      "Arts and Sciences    1782\n",
      "Wharton               934\n",
      "Engineering           801\n",
      "Education             355\n",
      "Law                   314\n",
      "Nursing               292\n",
      "Medical               231\n",
      "Dental                216\n",
      "Design                214\n",
      "Vet                   114\n",
      "LPS                   105\n",
      "Policy Practice        98\n",
      "Communications         40\n",
      "Name: count, dtype: int64\n",
      "School\n",
      "College Arts & Sciences               1339\n",
      "Wharton Masters                        637\n",
      "Graduate Arts Sciences                 443\n",
      "BioMedical PhD                         411\n",
      "Wharton Undergrad                      277\n",
      "Law Schl                               264\n",
      "Medical Schl                           231\n",
      "Engineering Undergrad                  192\n",
      "Design Professional                    190\n",
      "Dental Medicine                        174\n",
      "School of Education_PhD                168\n",
      "Nursing Undergraduate                  165\n",
      "Engineering Masters                    152\n",
      "Education Masters/Doctorate            138\n",
      "Veterinary Schl                        102\n",
      "LPS Masters/Cert                        93\n",
      "School Policy Practice Masters          88\n",
      "Nursing Masters                         71\n",
      "Law Post Grad                           50\n",
      "Education PhD                           49\n",
      "BioMedical Master                       46\n",
      "Dental School Post-Grad                 42\n",
      "Nursing Doctoral                        40\n",
      "Annenberg Sch of Communication PhD      40\n",
      "Design Graduate                         24\n",
      "Wharton Ph.D                            20\n",
      "Nursing PhD                             16\n",
      "LPS                                     12\n",
      "Veterinary Med VMD/PhD                  12\n",
      "Social Policy Practice PhD              10\n",
      "Name: count, dtype: int64\n"
     ]
    }
   ],
   "source": [
    "def map_school_category(school):\n",
    "    if 'Wharton' in school:\n",
    "        return 'Wharton'\n",
    "    elif 'Arts' in school:\n",
    "        return 'Arts and Sciences'\n",
    "    elif 'LPS' in school:\n",
    "        return 'LPS'\n",
    "    elif 'Education' in school:\n",
    "        return 'Education'\n",
    "    elif 'Veterinary' in school:\n",
    "        return 'Vet'\n",
    "    elif 'Engineering' in school:\n",
    "        return 'Engineering'\n",
    "    elif 'BioMedical' in school:\n",
    "        return 'Engineering'\n",
    "    elif 'Nursing' in school:\n",
    "        return 'Nursing'\n",
    "    elif 'Law' in school:\n",
    "        return 'Law'\n",
    "    elif 'Dental' in school:\n",
    "        return 'Dental'\n",
    "    elif 'Design' in school:\n",
    "        return 'Design'\n",
    "    elif 'Communication' in school:\n",
    "        return 'Communications'\n",
    "    elif 'Medical' in school:\n",
    "        return 'Medical'\n",
    "    elif 'Policy Practice' in school:\n",
    "        return 'Policy Practice'\n",
    "    else:\n",
    "        return school\n",
    "\n",
    "\n",
    "# Create the new 'School_cat' column using the custom function\n",
    "df['School_v2'] = df['School'].apply(map_school_category)\n",
    "\n",
    "print(df['School_v2'].value_counts())\n",
    "print(df['School'].value_counts())"
   ]
  },
  {
   "cell_type": "code",
   "execution_count": 11,
   "id": "b850f4b8",
   "metadata": {},
   "outputs": [],
   "source": [
    "df.loc[:, 'Date'] = df['CollectionDate'].dt.date\n",
    "df['Date'] = pd.to_datetime(df[\"Date\"])\n",
    "df['CollectionDate'] = pd.to_datetime(df['CollectionDate'])\n",
    "df['Time'] = df['CollectionDate'].dt.time\n",
    "df['Hour'] = df['Time'].apply(lambda x: x.hour)\n",
    "df['Day'] = df['Date'].dt.day_name()\n",
    "df['Month'] = df['Date'].dt.month\n"
   ]
  },
  {
   "cell_type": "code",
   "execution_count": 12,
   "id": "cb347488",
   "metadata": {},
   "outputs": [
    {
     "data": {
      "text/html": [
       "<div>\n",
       "<style scoped>\n",
       "    .dataframe tbody tr th:only-of-type {\n",
       "        vertical-align: middle;\n",
       "    }\n",
       "\n",
       "    .dataframe tbody tr th {\n",
       "        vertical-align: top;\n",
       "    }\n",
       "\n",
       "    .dataframe thead th {\n",
       "        text-align: right;\n",
       "    }\n",
       "</style>\n",
       "<table border=\"1\" class=\"dataframe\">\n",
       "  <thead>\n",
       "    <tr style=\"text-align: right;\">\n",
       "      <th></th>\n",
       "      <th>Date</th>\n",
       "      <th>Time</th>\n",
       "      <th>Hour</th>\n",
       "      <th>Day</th>\n",
       "      <th>Month</th>\n",
       "    </tr>\n",
       "  </thead>\n",
       "  <tbody>\n",
       "    <tr>\n",
       "      <th>0</th>\n",
       "      <td>2023-01-10</td>\n",
       "      <td>00:00:00</td>\n",
       "      <td>0</td>\n",
       "      <td>Tuesday</td>\n",
       "      <td>1</td>\n",
       "    </tr>\n",
       "    <tr>\n",
       "      <th>1</th>\n",
       "      <td>2023-01-10</td>\n",
       "      <td>00:00:00</td>\n",
       "      <td>0</td>\n",
       "      <td>Tuesday</td>\n",
       "      <td>1</td>\n",
       "    </tr>\n",
       "    <tr>\n",
       "      <th>2</th>\n",
       "      <td>2023-02-23</td>\n",
       "      <td>15:20:00</td>\n",
       "      <td>15</td>\n",
       "      <td>Thursday</td>\n",
       "      <td>2</td>\n",
       "    </tr>\n",
       "    <tr>\n",
       "      <th>3</th>\n",
       "      <td>2023-02-23</td>\n",
       "      <td>15:20:00</td>\n",
       "      <td>15</td>\n",
       "      <td>Thursday</td>\n",
       "      <td>2</td>\n",
       "    </tr>\n",
       "    <tr>\n",
       "      <th>4</th>\n",
       "      <td>2023-01-19</td>\n",
       "      <td>10:04:00</td>\n",
       "      <td>10</td>\n",
       "      <td>Thursday</td>\n",
       "      <td>1</td>\n",
       "    </tr>\n",
       "  </tbody>\n",
       "</table>\n",
       "</div>"
      ],
      "text/plain": [
       "        Date      Time  Hour       Day  Month\n",
       "0 2023-01-10  00:00:00     0   Tuesday      1\n",
       "1 2023-01-10  00:00:00     0   Tuesday      1\n",
       "2 2023-02-23  15:20:00    15  Thursday      2\n",
       "3 2023-02-23  15:20:00    15  Thursday      2\n",
       "4 2023-01-19  10:04:00    10  Thursday      1"
      ]
     },
     "execution_count": 12,
     "metadata": {},
     "output_type": "execute_result"
    }
   ],
   "source": [
    "df[['Date', 'Time', 'Hour', 'Day', 'Month']].head()"
   ]
  },
  {
   "cell_type": "markdown",
   "id": "a7eb36de",
   "metadata": {},
   "source": [
    "##### Now we need to make sure that what we made is valid with another round of checks. Start with null values. \n",
    "\n",
    "##### Then we can check the distribution."
   ]
  },
  {
   "cell_type": "code",
   "execution_count": 13,
   "id": "8ae38ec2",
   "metadata": {},
   "outputs": [
    {
     "data": {
      "text/plain": [
       "Date     0\n",
       "Time     0\n",
       "Hour     0\n",
       "Day      0\n",
       "Month    0\n",
       "dtype: int64"
      ]
     },
     "execution_count": 13,
     "metadata": {},
     "output_type": "execute_result"
    }
   ],
   "source": [
    "df[['Date', 'Time', 'Hour', 'Day', 'Month']].isnull().sum()"
   ]
  },
  {
   "cell_type": "code",
   "execution_count": 14,
   "id": "29c14542",
   "metadata": {},
   "outputs": [
    {
     "name": "stdout",
     "output_type": "stream",
     "text": [
      "The distribution for Hours are Hour\n",
      "0     374\n",
      "1      10\n",
      "2       2\n",
      "3       6\n",
      "4      12\n",
      "5       4\n",
      "7       2\n",
      "8      14\n",
      "9     553\n",
      "10    764\n",
      "11    832\n",
      "12    293\n",
      "13    395\n",
      "14    644\n",
      "15    643\n",
      "16    622\n",
      "17    158\n",
      "18    103\n",
      "19     59\n",
      "20      6\n",
      "Name: count, dtype: int64\n",
      "The distribution for Days are Day\n",
      "Friday        815\n",
      "Monday       1083\n",
      "Saturday       87\n",
      "Sunday          4\n",
      "Thursday     1269\n",
      "Tuesday      1141\n",
      "Wednesday    1097\n",
      "Name: count, dtype: int64\n",
      "The distribution for Months are Month\n",
      "1    1227\n",
      "2    1054\n",
      "3    1092\n",
      "4    1029\n",
      "5    1094\n",
      "Name: count, dtype: int64\n"
     ]
    }
   ],
   "source": [
    "print(\"The distribution for Hours are\", df['Hour'].value_counts().sort_index(ascending=True))\n",
    "print(\"The distribution for Days are\", df['Day'].value_counts().sort_index(ascending=True))\n",
    "print(\"The distribution for Months are\", df['Month'].value_counts().sort_index(ascending=True))"
   ]
  }
 ],
 "metadata": {
  "kernelspec": {
   "display_name": "Python 3 (ipykernel)",
   "language": "python",
   "name": "python3"
  },
  "language_info": {
   "codemirror_mode": {
    "name": "ipython",
    "version": 3
   },
   "file_extension": ".py",
   "mimetype": "text/x-python",
   "name": "python",
   "nbconvert_exporter": "python",
   "pygments_lexer": "ipython3",
   "version": "3.11.5"
  }
 },
 "nbformat": 4,
 "nbformat_minor": 5
}
